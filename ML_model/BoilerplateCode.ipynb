{
 "cells": [
  {
   "cell_type": "code",
   "execution_count": 1,
   "metadata": {},
   "outputs": [],
   "source": [
    "import numpy as np\n",
    "import pandas as pd\n",
    "import sklearn\n"
   ]
  },
  {
   "cell_type": "code",
   "execution_count": 2,
   "metadata": {},
   "outputs": [],
   "source": [
    "data=pd.read_csv('/home/harshita/Documents/SPE/Original Loan Approver/SmartLoadApproverAsServiceUsingMachineLearning/data/loan.csv',engine='python')"
   ]
  },
  {
   "cell_type": "code",
   "execution_count": 3,
   "metadata": {},
   "outputs": [
    {
     "data": {
      "text/html": [
       "<div>\n",
       "<style scoped>\n",
       "    .dataframe tbody tr th:only-of-type {\n",
       "        vertical-align: middle;\n",
       "    }\n",
       "\n",
       "    .dataframe tbody tr th {\n",
       "        vertical-align: top;\n",
       "    }\n",
       "\n",
       "    .dataframe thead th {\n",
       "        text-align: right;\n",
       "    }\n",
       "</style>\n",
       "<table border=\"1\" class=\"dataframe\">\n",
       "  <thead>\n",
       "    <tr style=\"text-align: right;\">\n",
       "      <th></th>\n",
       "      <th>loan_amnt</th>\n",
       "      <th>term</th>\n",
       "      <th>int_rate</th>\n",
       "      <th>emp_length</th>\n",
       "      <th>home_ownership</th>\n",
       "      <th>annual_inc</th>\n",
       "      <th>purpose</th>\n",
       "      <th>addr_state</th>\n",
       "      <th>dti</th>\n",
       "      <th>delinq_2yrs</th>\n",
       "      <th>revol_util</th>\n",
       "      <th>total_acc</th>\n",
       "      <th>bad_loan</th>\n",
       "      <th>longest_credit_length</th>\n",
       "      <th>verification_status</th>\n",
       "    </tr>\n",
       "  </thead>\n",
       "  <tbody>\n",
       "    <tr>\n",
       "      <th>0</th>\n",
       "      <td>5000</td>\n",
       "      <td>36 months</td>\n",
       "      <td>10.65</td>\n",
       "      <td>10.0</td>\n",
       "      <td>RENT</td>\n",
       "      <td>24000.0</td>\n",
       "      <td>credit_card</td>\n",
       "      <td>AZ</td>\n",
       "      <td>27.65</td>\n",
       "      <td>0.0</td>\n",
       "      <td>83.7</td>\n",
       "      <td>9.0</td>\n",
       "      <td>0</td>\n",
       "      <td>26.0</td>\n",
       "      <td>verified</td>\n",
       "    </tr>\n",
       "    <tr>\n",
       "      <th>1</th>\n",
       "      <td>2500</td>\n",
       "      <td>60 months</td>\n",
       "      <td>15.27</td>\n",
       "      <td>0.0</td>\n",
       "      <td>RENT</td>\n",
       "      <td>30000.0</td>\n",
       "      <td>car</td>\n",
       "      <td>GA</td>\n",
       "      <td>1.00</td>\n",
       "      <td>0.0</td>\n",
       "      <td>9.4</td>\n",
       "      <td>4.0</td>\n",
       "      <td>1</td>\n",
       "      <td>12.0</td>\n",
       "      <td>verified</td>\n",
       "    </tr>\n",
       "    <tr>\n",
       "      <th>2</th>\n",
       "      <td>2400</td>\n",
       "      <td>36 months</td>\n",
       "      <td>15.96</td>\n",
       "      <td>10.0</td>\n",
       "      <td>RENT</td>\n",
       "      <td>12252.0</td>\n",
       "      <td>small_business</td>\n",
       "      <td>IL</td>\n",
       "      <td>8.72</td>\n",
       "      <td>0.0</td>\n",
       "      <td>98.5</td>\n",
       "      <td>10.0</td>\n",
       "      <td>0</td>\n",
       "      <td>10.0</td>\n",
       "      <td>not verified</td>\n",
       "    </tr>\n",
       "    <tr>\n",
       "      <th>3</th>\n",
       "      <td>10000</td>\n",
       "      <td>36 months</td>\n",
       "      <td>13.49</td>\n",
       "      <td>10.0</td>\n",
       "      <td>RENT</td>\n",
       "      <td>49200.0</td>\n",
       "      <td>other</td>\n",
       "      <td>CA</td>\n",
       "      <td>20.00</td>\n",
       "      <td>0.0</td>\n",
       "      <td>21.0</td>\n",
       "      <td>37.0</td>\n",
       "      <td>0</td>\n",
       "      <td>15.0</td>\n",
       "      <td>verified</td>\n",
       "    </tr>\n",
       "    <tr>\n",
       "      <th>4</th>\n",
       "      <td>5000</td>\n",
       "      <td>36 months</td>\n",
       "      <td>7.90</td>\n",
       "      <td>3.0</td>\n",
       "      <td>RENT</td>\n",
       "      <td>36000.0</td>\n",
       "      <td>wedding</td>\n",
       "      <td>AZ</td>\n",
       "      <td>11.20</td>\n",
       "      <td>0.0</td>\n",
       "      <td>28.3</td>\n",
       "      <td>12.0</td>\n",
       "      <td>0</td>\n",
       "      <td>7.0</td>\n",
       "      <td>verified</td>\n",
       "    </tr>\n",
       "  </tbody>\n",
       "</table>\n",
       "</div>"
      ],
      "text/plain": [
       "   loan_amnt       term  int_rate  emp_length home_ownership  annual_inc  \\\n",
       "0       5000  36 months     10.65        10.0           RENT     24000.0   \n",
       "1       2500  60 months     15.27         0.0           RENT     30000.0   \n",
       "2       2400  36 months     15.96        10.0           RENT     12252.0   \n",
       "3      10000  36 months     13.49        10.0           RENT     49200.0   \n",
       "4       5000  36 months      7.90         3.0           RENT     36000.0   \n",
       "\n",
       "          purpose addr_state    dti  delinq_2yrs  revol_util  total_acc  \\\n",
       "0     credit_card         AZ  27.65          0.0        83.7        9.0   \n",
       "1             car         GA   1.00          0.0         9.4        4.0   \n",
       "2  small_business         IL   8.72          0.0        98.5       10.0   \n",
       "3           other         CA  20.00          0.0        21.0       37.0   \n",
       "4         wedding         AZ  11.20          0.0        28.3       12.0   \n",
       "\n",
       "   bad_loan  longest_credit_length verification_status  \n",
       "0         0                   26.0            verified  \n",
       "1         1                   12.0            verified  \n",
       "2         0                   10.0        not verified  \n",
       "3         0                   15.0            verified  \n",
       "4         0                    7.0            verified  "
      ]
     },
     "execution_count": 3,
     "metadata": {},
     "output_type": "execute_result"
    }
   ],
   "source": [
    "data.head()"
   ]
  },
  {
   "cell_type": "code",
   "execution_count": 4,
   "metadata": {},
   "outputs": [
    {
     "data": {
      "text/plain": [
       "loan_amnt                   0\n",
       "term                        0\n",
       "int_rate                    0\n",
       "emp_length               5804\n",
       "home_ownership              0\n",
       "annual_inc                  4\n",
       "purpose                     0\n",
       "addr_state                  0\n",
       "dti                         0\n",
       "delinq_2yrs                29\n",
       "revol_util                193\n",
       "total_acc                  29\n",
       "bad_loan                    0\n",
       "longest_credit_length      29\n",
       "verification_status         0\n",
       "dtype: int64"
      ]
     },
     "execution_count": 4,
     "metadata": {},
     "output_type": "execute_result"
    }
   ],
   "source": [
    "(data.isna()).sum()"
   ]
  },
  {
   "cell_type": "code",
   "execution_count": 5,
   "metadata": {},
   "outputs": [],
   "source": [
    "### Replace missing entries\n",
    "\n",
    "data['emp_length'].fillna(data['emp_length'].median(),inplace=True)\n",
    "data['annual_inc'].fillna(data['annual_inc'].median(),inplace=True)\n",
    "data['delinq_2yrs'].fillna(data['delinq_2yrs'].median(),inplace=True)\n",
    "data['revol_util'].fillna(data['revol_util'].median(),inplace=True)\n",
    "data['total_acc'].fillna(data['total_acc'].median(),inplace=True)\n",
    "data['longest_credit_length'].fillna(data['longest_credit_length'].median(),inplace=True)"
   ]
  },
  {
   "cell_type": "code",
   "execution_count": 6,
   "metadata": {},
   "outputs": [
    {
     "name": "stdout",
     "output_type": "stream",
     "text": [
      "<class 'pandas.core.frame.DataFrame'>\n",
      "RangeIndex: 163987 entries, 0 to 163986\n",
      "Data columns (total 15 columns):\n",
      " #   Column                 Non-Null Count   Dtype  \n",
      "---  ------                 --------------   -----  \n",
      " 0   loan_amnt              163987 non-null  int64  \n",
      " 1   term                   163987 non-null  object \n",
      " 2   int_rate               163987 non-null  float64\n",
      " 3   emp_length             163987 non-null  float64\n",
      " 4   home_ownership         163987 non-null  object \n",
      " 5   annual_inc             163987 non-null  float64\n",
      " 6   purpose                163987 non-null  object \n",
      " 7   addr_state             163987 non-null  object \n",
      " 8   dti                    163987 non-null  float64\n",
      " 9   delinq_2yrs            163987 non-null  float64\n",
      " 10  revol_util             163987 non-null  float64\n",
      " 11  total_acc              163987 non-null  float64\n",
      " 12  bad_loan               163987 non-null  int64  \n",
      " 13  longest_credit_length  163987 non-null  float64\n",
      " 14  verification_status    163987 non-null  object \n",
      "dtypes: float64(8), int64(2), object(5)\n",
      "memory usage: 18.8+ MB\n"
     ]
    }
   ],
   "source": [
    "data.info()"
   ]
  },
  {
   "cell_type": "code",
   "execution_count": 7,
   "metadata": {},
   "outputs": [],
   "source": [
    "## One hot encoding categorical variables\n",
    "categorical_variables=['term','home_ownership','purpose','addr_state','verification_status']\n",
    "\n",
    "Interest_rates=data['int_rate']\n",
    "Verification_status=data['bad_loan']\n",
    "#Verification_status=np.where(Verification_status=='verified',0,1)\n",
    "\n",
    "train_ds=data.drop(columns=['int_rate','bad_loan'],inplace=False)"
   ]
  },
  {
   "cell_type": "code",
   "execution_count": 8,
   "metadata": {},
   "outputs": [
    {
     "data": {
      "text/plain": [
       "array(['RENT', 'OWN', 'MORTGAGE', 'OTHER', 'NONE', 'ANY'], dtype=object)"
      ]
     },
     "execution_count": 8,
     "metadata": {},
     "output_type": "execute_result"
    }
   ],
   "source": [
    "data['home_ownership'].unique()"
   ]
  },
  {
   "cell_type": "code",
   "execution_count": 9,
   "metadata": {},
   "outputs": [],
   "source": [
    "from sklearn.preprocessing import OneHotEncoder\n",
    "from sklearn.model_selection import train_test_split\n",
    "from sklearn.pipeline import Pipeline\n",
    "from sklearn.compose import ColumnTransformer\n",
    "\n"
   ]
  },
  {
   "cell_type": "code",
   "execution_count": 27,
   "metadata": {},
   "outputs": [],
   "source": [
    "X_train_rate,X_test_rate,Y_train_rate,Y_test_rate=train_test_split(train_ds,Interest_rates,random_state=42)\n",
    "X_train_verify,X_test_verify,Y_train_verify,Y_test_verify=train_test_split(train_ds,Verification_status,random_state=42)"
   ]
  },
  {
   "cell_type": "code",
   "execution_count": 21,
   "metadata": {},
   "outputs": [],
   "source": [
    "col_transformer=ColumnTransformer([('encoder',OneHotEncoder(),categorical_variables)],remainder='passthrough')\n",
    "#sample=col_transformer.fit_transform(X_train_rate)"
   ]
  },
  {
   "cell_type": "code",
   "execution_count": 29,
   "metadata": {},
   "outputs": [
    {
     "data": {
      "text/plain": [
       "array(['MORTGAGE', 'RENT', 'OWN', 'OTHER', 'NONE', 'ANY'], dtype=object)"
      ]
     },
     "execution_count": 29,
     "metadata": {},
     "output_type": "execute_result"
    }
   ],
   "source": [
    "X_train_verify['home_ownership'].unique()"
   ]
  },
  {
   "cell_type": "code",
   "execution_count": 30,
   "metadata": {},
   "outputs": [
    {
     "data": {
      "text/plain": [
       "Pipeline(steps=[('onehotencoder',\n",
       "                 ColumnTransformer(remainder='passthrough',\n",
       "                                   transformers=[('encoder', OneHotEncoder(),\n",
       "                                                  ['term', 'home_ownership',\n",
       "                                                   'purpose', 'addr_state',\n",
       "                                                   'verification_status'])])),\n",
       "                ('Linear_regressor', LinearRegression())])"
      ]
     },
     "execution_count": 30,
     "metadata": {},
     "output_type": "execute_result"
    }
   ],
   "source": [
    "from sklearn.linear_model import LinearRegression\n",
    "pipeline_rate=Pipeline([('onehotencoder',col_transformer),('Linear_regressor',LinearRegression())])#\n",
    "\n",
    "pipeline_rate.fit(X_train_rate,Y_train_rate)\n",
    "#pipeline_rate.score(X_test_rate,Y_test_rate)\n",
    "#sample_test=col_transformer.fit_transform(X_test_rate)\n",
    "#pipeline_rate.score(sample_test,Y_test_rate)"
   ]
  },
  {
   "cell_type": "code",
   "execution_count": null,
   "metadata": {},
   "outputs": [],
   "source": []
  },
  {
   "cell_type": "code",
   "execution_count": 59,
   "metadata": {},
   "outputs": [],
   "source": [
    "from sklearn.metrics import mean_squared_error\n",
    "mse=mean_squared_error(pipeline_rate.predict(X_test_rate),Y_test_rate)"
   ]
  },
  {
   "cell_type": "code",
   "execution_count": 60,
   "metadata": {},
   "outputs": [
    {
     "data": {
      "text/plain": [
       "11.827096700346198"
      ]
     },
     "execution_count": 60,
     "metadata": {},
     "output_type": "execute_result"
    }
   ],
   "source": [
    "mse"
   ]
  },
  {
   "cell_type": "code",
   "execution_count": 33,
   "metadata": {},
   "outputs": [
    {
     "data": {
      "text/plain": [
       "0.8136936849037735"
      ]
     },
     "execution_count": 33,
     "metadata": {},
     "output_type": "execute_result"
    }
   ],
   "source": [
    "from sklearn.linear_model import LogisticRegression\n",
    "pipeline_verify=Pipeline([('onehotencoder',col_transformer),('classifier',LogisticRegression())])\n",
    "pipeline_verify.fit(X_train_verify,Y_train_verify)\n",
    "pipeline_verify.score(X_test_verify,Y_test_verify)"
   ]
  },
  {
   "cell_type": "code",
   "execution_count": 34,
   "metadata": {},
   "outputs": [
    {
     "name": "stdout",
     "output_type": "stream",
     "text": [
      "[[0.739429   0.260571  ]\n",
      " [0.92640352 0.07359648]\n",
      " [0.76985462 0.23014538]\n",
      " ...\n",
      " [0.95019574 0.04980426]\n",
      " [0.75830257 0.24169743]\n",
      " [0.89012516 0.10987484]]\n"
     ]
    }
   ],
   "source": [
    "y_proba = pipeline_verify.predict_proba(X_test_verify)\n",
    "print(y_proba)"
   ]
  },
  {
   "cell_type": "code",
   "execution_count": 35,
   "metadata": {},
   "outputs": [
    {
     "name": "stdout",
     "output_type": "stream",
     "text": [
      "0.5\n"
     ]
    }
   ],
   "source": [
    "from sklearn.metrics import roc_auc_score\n",
    "roc_score=roc_auc_score(Y_test_verify,pipeline_verify.predict(X_test_verify))\n",
    "print(roc_score)"
   ]
  },
  {
   "cell_type": "code",
   "execution_count": 85,
   "metadata": {},
   "outputs": [],
   "source": [
    "from sklearn.preprocessing import StandardScaler\n",
    "from sklearn.svm import SVC"
   ]
  },
  {
   "cell_type": "code",
   "execution_count": 86,
   "metadata": {},
   "outputs": [],
   "source": [
    "class BankLoanVerifier:\n",
    "    def __init__(self,X,Y):\n",
    "        super(BankLoanVerifier).__init__()\n",
    "        self.X=X\n",
    "        self.Y=Y\n",
    "        \n",
    "    def preprocess(self):\n",
    "        self.X['emp_length'].fillna(self.X['emp_length'].median(),inplace=True)\n",
    "        self.X['annual_inc'].fillna(self.X['annual_inc'].median(),inplace=True)\n",
    "        self.X['delinq_2yrs'].fillna(self.X['delinq_2yrs'].median(),inplace=True)\n",
    "        self.X['revol_util'].fillna(self.X['revol_util'].median(),inplace=True)\n",
    "        self.X['total_acc'].fillna(self.X['total_acc'].median(),inplace=True)\n",
    "        self.X['longest_credit_length'].fillna(self.X['longest_credit_length'].median(),inplace=True)\n",
    "        \n",
    "        #self.Y=np.where(self.Y=='verified',0,1)\n",
    "        \n",
    "    def split_dataset(self):\n",
    "        self.X_train_verify,self.X_test_verify,self.Y_train_verify,self.Y_test_verify=train_test_split(self.X,self.Y,random_state=42)\n",
    "        \n",
    "    def train(self):\n",
    "        self.preprocess()\n",
    "        self.split_dataset()\n",
    "        categorical_variables=['term','home_ownership','purpose','addr_state','verification_status']\n",
    "        col_transformer=ColumnTransformer([('encoder',OneHotEncoder(),categorical_variables)],remainder='passthrough')\n",
    "        self.pipeline_verify=Pipeline([('onehotencoder',col_transformer),('scaler',StandardScaler(with_mean=False)),('classifier',SVC())]) #LogisticRegression(solver='liblinear')\n",
    "        self.pipeline_verify.fit(self.X_train_verify,self.Y_train_verify)\n",
    "        return self.X_train_verify,self.X_test_verify,self.Y_train_verify,self.Y_test_verify\n",
    "    \n",
    "    def predict(self,X_test):\n",
    "        Y_predicted=self.pipeline_verify.predict(X_test)\n",
    "        return Y_predicted\n",
    "    \n",
    "    def roc_auc_score(self,X_test,Y_test):\n",
    "        Y_test_pred=self.pipeline_verify.predict(X_test)\n",
    "        roc_score=roc_auc_score(Y_test,Y_test_pred)\n",
    "        return roc_auc_score\n",
    "    \n",
    "    def predict_proba(self,X_test,class_name):\n",
    "        y_proba = self.pipeline_verify.predict_proba(X_test)[0][class_name]\n",
    "        return y_proba"
   ]
  },
  {
   "cell_type": "code",
   "execution_count": null,
   "metadata": {},
   "outputs": [],
   "source": [
    "data_new=pd.read_csv('/home/harshita/Documents/SPE/Original Loan Approver/SmartLoadApproverAsServiceUsingMachineLearning/data/loan.csv',engine='python')\n",
    "Y_loan=data_new['bad_loan']\n",
    "Y_rate=data_new['int_rate']\n",
    "data_new.drop(columns=['bad_loan','int_rate'],inplace=True)\n",
    "verifier=BankLoanVerifier(data_new,Y_loan)\n",
    "X_train_verify,X_test_verify,Y_train_verify,Y_test_verify=verifier.train()\n",
    "Y_pred=verifier.predict(X_test_verify)\n",
    "print(roc_auc_score(Y_test_verify,Y_pred))"
   ]
  },
  {
   "cell_type": "code",
   "execution_count": 39,
   "metadata": {},
   "outputs": [
    {
     "data": {
      "text/plain": [
       "loan_amnt                              9750\n",
       "term                              36 months\n",
       "emp_length                                4\n",
       "home_ownership                         RENT\n",
       "annual_inc                            21600\n",
       "purpose                  debt_consolidation\n",
       "addr_state                               CO\n",
       "dti                                    8.56\n",
       "delinq_2yrs                               1\n",
       "revol_util                                0\n",
       "total_acc                                34\n",
       "longest_credit_length                    10\n",
       "verification_status                verified\n",
       "Name: 2150, dtype: object"
      ]
     },
     "execution_count": 39,
     "metadata": {},
     "output_type": "execute_result"
    }
   ],
   "source": [
    "X_test_verify.iloc[-1]"
   ]
  },
  {
   "cell_type": "code",
   "execution_count": 40,
   "metadata": {},
   "outputs": [],
   "source": [
    "one_sample=pd.DataFrame(dict({'loan_amnt':[5000],'term':['60 months'],'emp_length':[12],'home_ownership':['RENT'],\n",
    "                             'annual_inc':[120000],'purpose':['credit_card'],'addr_state':['MN'],'dti':[9.08],\n",
    "                             'delinq_2yrs':[1],'revol_util':[50],'total_acc':[60],'longest_credit_length':[20],'verification_status':['verified']}))"
   ]
  },
  {
   "cell_type": "code",
   "execution_count": 41,
   "metadata": {},
   "outputs": [
    {
     "data": {
      "text/html": [
       "<div>\n",
       "<style scoped>\n",
       "    .dataframe tbody tr th:only-of-type {\n",
       "        vertical-align: middle;\n",
       "    }\n",
       "\n",
       "    .dataframe tbody tr th {\n",
       "        vertical-align: top;\n",
       "    }\n",
       "\n",
       "    .dataframe thead th {\n",
       "        text-align: right;\n",
       "    }\n",
       "</style>\n",
       "<table border=\"1\" class=\"dataframe\">\n",
       "  <thead>\n",
       "    <tr style=\"text-align: right;\">\n",
       "      <th></th>\n",
       "      <th>loan_amnt</th>\n",
       "      <th>term</th>\n",
       "      <th>emp_length</th>\n",
       "      <th>home_ownership</th>\n",
       "      <th>annual_inc</th>\n",
       "      <th>purpose</th>\n",
       "      <th>addr_state</th>\n",
       "      <th>dti</th>\n",
       "      <th>delinq_2yrs</th>\n",
       "      <th>revol_util</th>\n",
       "      <th>total_acc</th>\n",
       "      <th>longest_credit_length</th>\n",
       "      <th>verification_status</th>\n",
       "    </tr>\n",
       "  </thead>\n",
       "  <tbody>\n",
       "    <tr>\n",
       "      <th>0</th>\n",
       "      <td>5000</td>\n",
       "      <td>60 months</td>\n",
       "      <td>12</td>\n",
       "      <td>RENT</td>\n",
       "      <td>120000</td>\n",
       "      <td>credit_card</td>\n",
       "      <td>MN</td>\n",
       "      <td>9.08</td>\n",
       "      <td>1</td>\n",
       "      <td>50</td>\n",
       "      <td>60</td>\n",
       "      <td>20</td>\n",
       "      <td>verified</td>\n",
       "    </tr>\n",
       "  </tbody>\n",
       "</table>\n",
       "</div>"
      ],
      "text/plain": [
       "   loan_amnt       term  emp_length home_ownership  annual_inc      purpose  \\\n",
       "0       5000  60 months          12           RENT      120000  credit_card   \n",
       "\n",
       "  addr_state   dti  delinq_2yrs  revol_util  total_acc  longest_credit_length  \\\n",
       "0         MN  9.08            1          50         60                     20   \n",
       "\n",
       "  verification_status  \n",
       "0            verified  "
      ]
     },
     "execution_count": 41,
     "metadata": {},
     "output_type": "execute_result"
    }
   ],
   "source": [
    "one_sample"
   ]
  },
  {
   "cell_type": "code",
   "execution_count": 42,
   "metadata": {},
   "outputs": [
    {
     "data": {
      "text/plain": [
       "0"
      ]
     },
     "execution_count": 42,
     "metadata": {},
     "output_type": "execute_result"
    }
   ],
   "source": [
    "verifier.predict(one_sample)[0]"
   ]
  },
  {
   "cell_type": "code",
   "execution_count": 65,
   "metadata": {},
   "outputs": [],
   "source": [
    "import pickle\n",
    "def pickle_model(model,path='./BadLoanVerifier.pkl'):\n",
    "        with open(path, 'wb') as f:\n",
    "            pickle.dump(model, f)\n",
    "            print(\"Pickled model at {}\".format(path))\n",
    "            \n",
    "def unpickle_model(path='./BadLoanVerifier.pkl'):\n",
    "    with open(path,'rb') as f:\n",
    "        model=pickle.load(f)\n",
    "        return model"
   ]
  },
  {
   "cell_type": "code",
   "execution_count": 56,
   "metadata": {},
   "outputs": [],
   "source": [
    "class InterestRatePredictor:\n",
    "    def __init__(self,X,Y):\n",
    "        super(InterestRatePredictor).__init__()\n",
    "        self.X=X\n",
    "        self.Y=Y\n",
    "        \n",
    "    def preprocess(self):\n",
    "        self.X['emp_length'].fillna(self.X['emp_length'].median(),inplace=True)\n",
    "        self.X['annual_inc'].fillna(self.X['annual_inc'].median(),inplace=True)\n",
    "        self.X['delinq_2yrs'].fillna(self.X['delinq_2yrs'].median(),inplace=True)\n",
    "        self.X['revol_util'].fillna(self.X['revol_util'].median(),inplace=True)\n",
    "        self.X['total_acc'].fillna(self.X['total_acc'].median(),inplace=True)\n",
    "        self.X['longest_credit_length'].fillna(self.X['longest_credit_length'].median(),inplace=True)\n",
    "        \n",
    "    def split_dataset(self):\n",
    "        self.X_train_rate,self.X_test_rate,self.Y_train_rate,self.Y_test_rate=train_test_split(self.X,self.Y,random_state=42)\n",
    "        \n",
    "    def train(self):\n",
    "        self.preprocess()\n",
    "        self.split_dataset()\n",
    "        categorical_variables=['term','home_ownership','purpose','addr_state','verification_status']\n",
    "        col_transformer=ColumnTransformer([('encoder',OneHotEncoder(),categorical_variables)],remainder='passthrough')\n",
    "        self.pipeline_rate=Pipeline([('onehotencoder',col_transformer),('rate_predictor',LinearRegression())])\n",
    "        self.pipeline_rate.fit(self.X_train_rate,self.Y_train_rate)\n",
    "        return self.X_train_rate,self.X_test_rate,self.Y_train_rate,self.Y_test_rate\n",
    "    \n",
    "    def predict(self,X_test):\n",
    "        Y_predicted=self.pipeline_rate.predict(X_test)\n",
    "        return Y_predicted\n",
    "    \n",
    "    def calc_mse_score(self,X_test,Y_test):\n",
    "        Y_test_pred=self.pipeline_rate.predict(X_test)\n",
    "        mse_score=mean_squared_error(Y_test,Y_test_pred)\n",
    "        return mse_score\n",
    "   "
   ]
  },
  {
   "cell_type": "code",
   "execution_count": 66,
   "metadata": {},
   "outputs": [
    {
     "name": "stdout",
     "output_type": "stream",
     "text": [
      "11.827096700346198\n",
      "Pickled model at ./InterestRatePredictor.pkl\n"
     ]
    }
   ],
   "source": [
    "\n",
    "predictor=InterestRatePredictor(data_new,Y_rate)\n",
    "X_train_rate,X_test_rate,Y_train_rate,Y_test_rate=predictor.train()\n",
    "Y_pred=predictor.predict(X_test_rate)\n",
    "print(predictor.calc_mse_score(X_test_rate,Y_test_rate))\n",
    "reg=pickle_model(predictor,'./InterestRatePredictor.pkl')"
   ]
  },
  {
   "cell_type": "code",
   "execution_count": null,
   "metadata": {},
   "outputs": [],
   "source": []
  }
 ],
 "metadata": {
  "kernelspec": {
   "display_name": "Python 3",
   "language": "python",
   "name": "python3"
  },
  "language_info": {
   "codemirror_mode": {
    "name": "ipython",
    "version": 3
   },
   "file_extension": ".py",
   "mimetype": "text/x-python",
   "name": "python",
   "nbconvert_exporter": "python",
   "pygments_lexer": "ipython3",
   "version": "3.6.9"
  }
 },
 "nbformat": 4,
 "nbformat_minor": 2
}
