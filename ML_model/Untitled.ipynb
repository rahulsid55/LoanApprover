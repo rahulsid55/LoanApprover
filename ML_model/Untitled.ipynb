{
 "cells": [
  {
   "cell_type": "code",
   "execution_count": 1,
   "metadata": {},
   "outputs": [],
   "source": [
    "from flask import Flask\n",
    "from flask_restful import reqparse, abort, Api, Resource\n",
    "import pickle\n",
    "import numpy as np\n",
    "from BadLoanVerifier import BankLoanVerifier"
   ]
  },
  {
   "cell_type": "code",
   "execution_count": 2,
   "metadata": {},
   "outputs": [
    {
     "data": {
      "text/plain": [
       "<flask_restful.reqparse.RequestParser at 0x7f6d6d1bae80>"
      ]
     },
     "execution_count": 2,
     "metadata": {},
     "output_type": "execute_result"
    }
   ],
   "source": [
    "app = Flask(__name__)\n",
    "api = Api(app)\n",
    "\n",
    "\n",
    "\n",
    "clf_path = './BadLoanVerifier.pkl'\n",
    "with open(clf_path, 'rb') as f:\n",
    "    model = pickle.load(f)\n",
    "    \n",
    "parser = reqparse.RequestParser()\n",
    "parser.add_argument('loan_amnt')\n",
    "parser.add_argument('term')\n",
    "parser.add_argument('emp_length')\n",
    "parser.add_argument('home_ownership')\n",
    "parser.add_argument('annual_inc')\n",
    "parser.add_argument('purpose')\n",
    "parser.add_argument('addr_state')\n",
    "parser.add_argument('dti')\n",
    "parser.add_argument('delinq_2yrs')\n",
    "parser.add_argument('revol_util')\n",
    "parser.add_argument('total_acc')\n",
    "parser.add_argument('longest_credit_length')\n",
    "parser.add_argument('verification_status')\n",
    "\n"
   ]
  },
  {
   "cell_type": "code",
   "execution_count": 3,
   "metadata": {},
   "outputs": [],
   "source": [
    "class PredictBadLoan(Resource):\n",
    "    def get(self):\n",
    "        # use parser and find the user's query\n",
    "        args = parser.parse_args()\n",
    "        loan_amnt = args['loan_amnt']       \n",
    "        term= args['term']\n",
    "        emp_length= args['emp_length']\n",
    "        home_ownership= args['home_ownership']\n",
    "        annual_inc= args['annual_inc']\n",
    "        purpose= args['purpose']\n",
    "        addr_state= args['addr_state']\n",
    "        dti= args['dti']\n",
    "        delinq_2yrs= args['delinq_2yrs']\n",
    "        revol_util= args['revol_util']\n",
    "        total_acc= args['total_acc']\n",
    "        longest_credit_length= args['longest_credit_length']\n",
    "        verification_status= args['verification_status']\n",
    "        \n",
    "        \n",
    "        sample=pd.DataFrame(dict({'loan_amnt':[loan_amnt],'term':[term],'emp_length':[emp_length],\n",
    "                                  'home_ownership':[home_ownership],'annual_inc':[annual_inc],'purpose':[purpose],\n",
    "                                  'addr_state':[addr_state],'dti':[dti],'delinq_2yrs':[delinq_2yrs],'revol_util':[revol_util],\n",
    "                                  'total_acc':[total_acc],'longest_credit_length':[longest_credit_length],'verification_status':[verification_status]}))\n",
    "        prediction = model.predict(sample)[0]\n",
    "        prediction_proba=model.predict_proba(sample,prediction)\n",
    "        if prediction == 0:\n",
    "            pred_text = 'Verified'\n",
    "        else:\n",
    "            pred_text = 'Not Verified'\n",
    "            \n",
    "        # round the predict proba value and set to new variable\n",
    "        confidence = round(prediction_proba, 3)        # create JSON object\n",
    "        output = {'prediction': pred_text, 'confidence': confidence}\n",
    "        \n",
    "        return output\n",
    "    \n",
    "    "
   ]
  },
  {
   "cell_type": "code",
   "execution_count": 4,
   "metadata": {},
   "outputs": [
    {
     "name": "stdout",
     "output_type": "stream",
     "text": [
      " * Serving Flask app '__main__' (lazy loading)\n",
      " * Environment: production\n",
      "\u001b[31m   WARNING: This is a development server. Do not use it in a production deployment.\u001b[0m\n",
      "\u001b[2m   Use a production WSGI server instead.\u001b[0m\n",
      " * Debug mode: on\n"
     ]
    },
    {
     "name": "stderr",
     "output_type": "stream",
     "text": [
      " * Running on http://127.0.0.1:5000/ (Press CTRL+C to quit)\n",
      " * Restarting with stat\n"
     ]
    },
    {
     "ename": "SystemExit",
     "evalue": "1",
     "output_type": "error",
     "traceback": [
      "An exception has occurred, use %tb to see the full traceback.\n",
      "\u001b[0;31mSystemExit\u001b[0m\u001b[0;31m:\u001b[0m 1\n"
     ]
    },
    {
     "name": "stderr",
     "output_type": "stream",
     "text": [
      "/usr/lib/python3/dist-packages/IPython/core/interactiveshell.py:2890: UserWarning: To exit: use 'exit', 'quit', or Ctrl-D.\n",
      "  warn(\"To exit: use 'exit', 'quit', or Ctrl-D.\", stacklevel=1)\n"
     ]
    }
   ],
   "source": [
    "api.add_resource(PredictBadLoan, '/')\n",
    "\n",
    "\n",
    "if __name__ == '__main__':\n",
    "    app.run(debug=True)"
   ]
  },
  {
   "cell_type": "code",
   "execution_count": null,
   "metadata": {},
   "outputs": [],
   "source": [
    "%tb"
   ]
  },
  {
   "cell_type": "code",
   "execution_count": null,
   "metadata": {},
   "outputs": [],
   "source": []
  }
 ],
 "metadata": {
  "kernelspec": {
   "display_name": "Python 3",
   "language": "python",
   "name": "python3"
  },
  "language_info": {
   "codemirror_mode": {
    "name": "ipython",
    "version": 3
   },
   "file_extension": ".py",
   "mimetype": "text/x-python",
   "name": "python",
   "nbconvert_exporter": "python",
   "pygments_lexer": "ipython3",
   "version": "3.6.9"
  }
 },
 "nbformat": 4,
 "nbformat_minor": 2
}
